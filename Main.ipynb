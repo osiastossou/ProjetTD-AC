{
 "cells": [
  {
   "cell_type": "markdown",
   "metadata": {
    "colab_type": "text",
    "id": "zq4v2h9sQFY5"
   },
   "source": [
    "<center><h1>Code Python</h1></center>"
   ]
  },
  {
   "cell_type": "markdown",
   "metadata": {
    "colab_type": "text",
    "id": "V0Co5F0UQFZN"
   },
   "source": [
    "## Importation des librairies"
   ]
  },
  {
   "cell_type": "code",
   "execution_count": 1,
   "metadata": {
    "colab": {},
    "colab_type": "code",
    "id": "ON_SctlLQFZO"
   },
   "outputs": [],
   "source": [
    "# Pandas\n",
    "import pandas as pd\n",
    "# Contenant l'algorithme du Truth Finder\n",
    "import TruthFinder as tf \n",
    "# Contenant le partitionnement par force bruite appliqué avec le Truth Finder(Pour le moment)\n",
    "import AccuGenPartition as agp \n",
    "import DepenAccuAccuSim as daas "
   ]
  },
  {
   "cell_type": "code",
   "execution_count": 2,
   "metadata": {
    "colab": {},
    "colab_type": "code",
    "id": "nFVr3tGYQFZT"
   },
   "outputs": [],
   "source": [
    "import warnings\n",
    "warnings.filterwarnings(\"ignore\", message=\"numpy.dtype size changed\")\n",
    "warnings.filterwarnings(\"ignore\", message=\"numpy.ufunc size changed\")"
   ]
  },
  {
   "cell_type": "code",
   "execution_count": 3,
   "metadata": {
    "colab": {},
    "colab_type": "code",
    "id": "bk5P4AICQNHw"
   },
   "outputs": [],
   "source": [
    "import TDAC as aac\n"
   ]
  },
  {
   "cell_type": "code",
   "execution_count": 4,
   "metadata": {
    "colab": {},
    "colab_type": "code",
    "id": "HYwwD0F_QFZc"
   },
   "outputs": [],
   "source": [
    "#import AccuPartitionClustering as apc"
   ]
  },
  {
   "cell_type": "code",
   "execution_count": null,
   "metadata": {
    "colab": {},
    "colab_type": "code",
    "id": "ea7Qk7KTQksj"
   },
   "outputs": [],
   "source": []
  },
  {
   "cell_type": "markdown",
   "metadata": {
    "colab_type": "text",
    "id": "TvCAzB60QFZg"
   },
   "source": [
    "## Importation des données"
   ]
  },
  {
   "cell_type": "code",
   "execution_count": 5,
   "metadata": {
    "colab": {
     "base_uri": "https://localhost:8080/",
     "height": 100
    },
    "colab_type": "code",
    "id": "UFpNbmKxQFZg",
    "outputId": "6635c90c-dd26-4a83-eb41-852246edfd4d"
   },
   "outputs": [
    {
     "data": {
      "text/html": [
       "<div>\n",
       "<style scoped>\n",
       "    .dataframe tbody tr th:only-of-type {\n",
       "        vertical-align: middle;\n",
       "    }\n",
       "\n",
       "    .dataframe tbody tr th {\n",
       "        vertical-align: top;\n",
       "    }\n",
       "\n",
       "    .dataframe thead th {\n",
       "        text-align: right;\n",
       "    }\n",
       "</style>\n",
       "<table border=\"1\" class=\"dataframe\">\n",
       "  <thead>\n",
       "    <tr style=\"text-align: right;\">\n",
       "      <th></th>\n",
       "      <th>Unnamed: 0</th>\n",
       "      <th>Object</th>\n",
       "      <th>Property</th>\n",
       "      <th>Value</th>\n",
       "      <th>Source</th>\n",
       "    </tr>\n",
       "  </thead>\n",
       "  <tbody>\n",
       "    <tr>\n",
       "      <th>0</th>\n",
       "      <td>0</td>\n",
       "      <td>UA-2708-EWR-CLT</td>\n",
       "      <td>Scheduled departure</td>\n",
       "      <td>2011-12-01 2:55 PM</td>\n",
       "      <td>ua</td>\n",
       "    </tr>\n",
       "  </tbody>\n",
       "</table>\n",
       "</div>"
      ],
      "text/plain": [
       "   Unnamed: 0           Object             Property               Value Source\n",
       "0           0  UA-2708-EWR-CLT  Scheduled departure  2011-12-01 2:55 PM     ua"
      ]
     },
     "execution_count": 5,
     "metadata": {},
     "output_type": "execute_result"
    }
   ],
   "source": [
    "dataframe = pd.read_csv(\"data_semi/62_attributs/domaine25/data.csv\")\n",
    "dataframe = pd.read_csv(\"stock/stock_clean_2011-07-01.csv\")\n",
    "\n",
    "dataframe = pd.read_csv(\"examens/62_attributs/data.csv\")\n",
    "\n",
    "dataframe = pd.read_csv(\"flight/flight_clean_2011-12-01.csv\")\n",
    "\n",
    "#dataframe = pd.read_csv(\"data_conf22/data.csv\")\n",
    "#dataframe['ID'] = [i for i in range(dataframe.shape[0])]\n",
    "#dataframe = dataframe[['ID','Object','Property','Value','Source']]\n",
    "dataframe.head(1)"
   ]
  },
  {
   "cell_type": "code",
   "execution_count": 6,
   "metadata": {
    "colab": {},
    "colab_type": "code",
    "id": "yZdvCMCPQFZo"
   },
   "outputs": [],
   "source": [
    "#dataframe.to_csv('dataconf1/data.csv',index=False)\n",
    "#data_truth.to_csv('dataconf1/data_truth.csv',index=False)"
   ]
  },
  {
   "cell_type": "code",
   "execution_count": 7,
   "metadata": {
    "colab": {},
    "colab_type": "code",
    "id": "aPA_T4kgQFZt"
   },
   "outputs": [],
   "source": [
    "#dataframe[['Object','Property','Value']].drop_duplicates().groupby(by=['Object','Property'])\n",
    "#for key, value_of_di in dataframe[['Object','Property','Value']].drop_duplicates().groupby(by=['Object','Property']):\n",
    "    #print(key[0]+key[1])\n"
   ]
  },
  {
   "cell_type": "markdown",
   "metadata": {
    "colab_type": "text",
    "id": "rjT-85N2QFZz"
   },
   "source": [
    "## Importation des données vrai pour le calcule de précision avec la fonction __oracle__"
   ]
  },
  {
   "cell_type": "code",
   "execution_count": 8,
   "metadata": {
    "colab": {
     "base_uri": "https://localhost:8080/",
     "height": 80
    },
    "colab_type": "code",
    "id": "Kc8ig1YzQFZ0",
    "outputId": "a96fe88a-a217-4470-985b-b94eb26b993c"
   },
   "outputs": [
    {
     "data": {
      "text/html": [
       "<div>\n",
       "<style scoped>\n",
       "    .dataframe tbody tr th:only-of-type {\n",
       "        vertical-align: middle;\n",
       "    }\n",
       "\n",
       "    .dataframe tbody tr th {\n",
       "        vertical-align: top;\n",
       "    }\n",
       "\n",
       "    .dataframe thead th {\n",
       "        text-align: right;\n",
       "    }\n",
       "</style>\n",
       "<table border=\"1\" class=\"dataframe\">\n",
       "  <thead>\n",
       "    <tr style=\"text-align: right;\">\n",
       "      <th></th>\n",
       "      <th>Object</th>\n",
       "      <th>Property</th>\n",
       "      <th>Value</th>\n",
       "    </tr>\n",
       "  </thead>\n",
       "  <tbody>\n",
       "    <tr>\n",
       "      <th>0</th>\n",
       "      <td>AA-1221-MCO-ORD</td>\n",
       "      <td>Scheduled departure</td>\n",
       "      <td>2011-12-01 8:00 PM</td>\n",
       "    </tr>\n",
       "  </tbody>\n",
       "</table>\n",
       "</div>"
      ],
      "text/plain": [
       "            Object             Property               Value\n",
       "0  AA-1221-MCO-ORD  Scheduled departure  2011-12-01 8:00 PM"
      ]
     },
     "execution_count": 8,
     "metadata": {},
     "output_type": "execute_result"
    }
   ],
   "source": [
    "data_truth = pd.read_csv(\"data_semi/124_attributs/domaine25/data_truth.csv\")\n",
    "\n",
    "\n",
    "data_truth = pd.read_csv(\"examens/124_attributs/data_truth.csv\")\n",
    "\n",
    "#data_truth = pd.read_csv(\"stock/stock_truth_2011-07-01.csv\")\n",
    "#data_truth = pd.read_csv(\"data_conf22/data_truth.csv\")\n",
    "data_truth = pd.read_csv(\"flight/flight_truth_2011-12-01.csv\")\n",
    "\n",
    "#data_truth = data_truth[['Object','Property','Value']]\n",
    "data_truth.head(1)"
   ]
  },
  {
   "cell_type": "code",
   "execution_count": 9,
   "metadata": {
    "tags": []
   },
   "outputs": [],
   "source": [
    "dataframe = dataframe.drop_duplicates(subset=['Object', 'Property','Value','Source'], keep=\"first\")"
   ]
  },
  {
   "cell_type": "code",
   "execution_count": null,
   "metadata": {},
   "outputs": [],
   "source": []
  },
  {
   "cell_type": "markdown",
   "metadata": {
    "colab_type": "text",
    "id": "br9mZDGuQFZ4"
   },
   "source": [
    "## Execution de MajorityVote sur les données"
   ]
  },
  {
   "cell_type": "code",
   "execution_count": 17,
   "metadata": {
    "colab": {},
    "colab_type": "code",
    "id": "Q2Nf5KT0QFZ4"
   },
   "outputs": [],
   "source": [
    "def majorityVote(dataframe,data_truth):\n",
    "    dataframe[\"Object\"]=[str(x) for x in dataframe[\"Object\"]]\n",
    "    dataframe[\"Property\"]=[str(x) for x in dataframe[\"Property\"]]\n",
    "    dataframe[\"ObjectProperty\"] = dataframe[\"Object\"]+dataframe[\"Property\"]\n",
    "    resultat = pd.DataFrame(columns=['Object','Property','Value'])\n",
    "    u=0\n",
    "    for o_p in dataframe[\"ObjectProperty\"].unique():\n",
    "        indices = dataframe[\"ObjectProperty\"] == o_p\n",
    "        df = dataframe.loc[indices]\n",
    "        dic = dict(df.Value.value_counts())\n",
    "        max_ = 0\n",
    "        key = 0\n",
    "        #print(dic)\n",
    "        for i in range(len(dic)):\n",
    "            if list(dic.values())[i] > max_:\n",
    "                max_ = list(dic.values())[i]\n",
    "                key = list(dic.keys())[i]\n",
    "        resultat.loc[u] = [list(df.Object)[0],list(df.Property)[0],key]\n",
    "        u+=1\n",
    "        \n",
    "    data_truth1 = tf.get_truth_to_dict(data_truth)\n",
    "    resultat = tf.get_truth_to_dict(resultat)\n",
    "    evaluation_r = tf.evaluation(data_truth1,resultat,dataframe)\n",
    "    \n",
    "    return evaluation_r"
   ]
  },
  {
   "cell_type": "code",
   "execution_count": 18,
   "metadata": {
    "colab": {
     "base_uri": "https://localhost:8080/",
     "height": 119
    },
    "colab_type": "code",
    "id": "Wwm3v9VDQFZ8",
    "outputId": "202609ea-9b97-490b-fff5-2f241f1f9d10",
    "tags": []
   },
   "outputs": [
    {
     "name": "stdout",
     "output_type": "stream",
     "text": [
      "CPU times: user 1min 1s, sys: 879 ms, total: 1min 1s\n",
      "Wall time: 1min 15s\n"
     ]
    },
    {
     "data": {
      "text/plain": [
       "{'precision': 0.667442324313543,\n",
       " 'recall': 0.6022918166546676,\n",
       " 'accuracy': 0.80615,\n",
       " 'f1_score': 0.6331956226938724}"
      ]
     },
     "execution_count": 18,
     "metadata": {},
     "output_type": "execute_result"
    }
   ],
   "source": [
    "%%time\n",
    "majorityVote(dataframe,data_truth)"
   ]
  },
  {
   "cell_type": "markdown",
   "metadata": {
    "colab_type": "text",
    "id": "LyS2gm6CQFZ_"
   },
   "source": [
    "## Execution de Truth Finder sur les données"
   ]
  },
  {
   "cell_type": "markdown",
   "metadata": {
    "colab_type": "text",
    "id": "e-KTmyyxQFaA"
   },
   "source": [
    "L'algorthme du Truth Finder que nous avons implémenté tient compte des données dont les valeurs sont continue d'une part et catégoriel d'autre. \n",
    "\n",
    "Il retourne une liste contenant respectivement : __les données de départ ajouter de deux nouvelles colonne (fiabilité des source et confidence des valeurs)__ , __Nombre itération__ , __Max accuracy__ , __Avg accuracy__ et __Oracle accuracy__ ."
   ]
  },
  {
   "cell_type": "code",
   "execution_count": 50,
   "metadata": {
    "colab": {
     "base_uri": "https://localhost:8080/",
     "height": 292
    },
    "colab_type": "code",
    "id": "cY0CoScdQFaB",
    "outputId": "a3a64c9f-8c58-4c8c-ba41-8dcdd9d130e7",
    "scrolled": false,
    "tags": []
   },
   "outputs": [
    {
     "name": "stdout",
     "output_type": "stream",
     "text": [
      "---- Info sur data ----- \n",
      "Nombre object :  100\n",
      "Nombre attribue :  6\n",
      "Nombre source :  37\n",
      "Nombre observation :  8644\n",
      "---- ------------ ----- \n",
      "\n",
      "End sim\n",
      "---- Itération :  1 ----- \n",
      "---- Itération :  2 ----- \n",
      "---- Itération :  3 ----- \n",
      "---- Resultat----- \n",
      "Nombre itération :  3\n",
      "{'precision': 0.9003816027314722, 'recall': 0.8594708588957055, 'accuracy': 0.8578204534937529, 'f1_score': 0.8794507111329083}\n",
      "CPU times: user 20.5 s, sys: 209 ms, total: 20.7 s\n",
      "Wall time: 22.3 s\n"
     ]
    }
   ],
   "source": [
    "%%time\n",
    "out_tf = tf.train(dataframe,\n",
    "                  initial_trustworthiness=0.8,\n",
    "                  max_iterations=20,\n",
    "                  threshold=1e-6,\n",
    "                  data_truth=data_truth,\n",
    "                  rho=0.5,\n",
    "                  afficher=True)"
   ]
  },
  {
   "cell_type": "markdown",
   "metadata": {
    "colab_type": "text",
    "id": "cO-zVLiHQFaF"
   },
   "source": [
    "## Execution de DEPEN sur les données"
   ]
  },
  {
   "cell_type": "code",
   "execution_count": 20,
   "metadata": {
    "colab": {
     "base_uri": "https://localhost:8080/",
     "height": 986
    },
    "colab_type": "code",
    "id": "1mOHC6ZbQFaG",
    "outputId": "36bdb3c1-2598-4cb2-9e51-2ae6a65aa2fe",
    "tags": []
   },
   "outputs": [
    {
     "name": "stdout",
     "output_type": "stream",
     "text": [
      "---- Info sur data ----- \n",
      "Nombre object :  1000\n",
      "Nombre attribue :  6\n",
      "Nombre source :  10\n",
      "Nombre observation :  60000\n",
      "---- ------------ ----- \n",
      "\n",
      "---- Resultat----- \n",
      "Nombre itération :  3\n",
      "{'precision': 0.6115284887972874, 'recall': 0.5518358531317494, 'accuracy': 0.7781166666666667, 'f1_score': 0.5801507458450283}\n",
      "CPU times: user 19min 43s, sys: 27.3 s, total: 20min 11s\n",
      "Wall time: 24min 52s\n"
     ]
    }
   ],
   "source": [
    "%%time\n",
    "out_depen = daas.train(dataframe, max_iterations=20,\n",
    "          threshold=1e-6,initial_trustworthiness=0.8,c=0.2,n=50,alpha=0.2,rho=0.5,afficher=True,algo=\"DEPEN\",data_truth=data_truth)"
   ]
  },
  {
   "cell_type": "code",
   "execution_count": null,
   "metadata": {},
   "outputs": [],
   "source": []
  },
  {
   "cell_type": "markdown",
   "metadata": {
    "colab_type": "text",
    "id": "V-5Vpw_wQFaI"
   },
   "source": [
    "## Execution de ACCU sur les données"
   ]
  },
  {
   "cell_type": "code",
   "execution_count": 52,
   "metadata": {
    "colab": {},
    "colab_type": "code",
    "id": "cF_5qYKCQFaK",
    "tags": []
   },
   "outputs": [
    {
     "name": "stdout",
     "output_type": "stream",
     "text": [
      "---- Info sur data ----- \n",
      "Nombre object :  100\n",
      "Nombre attribue :  6\n",
      "Nombre source :  37\n",
      "Nombre observation :  8644\n",
      "---- ------------ ----- \n",
      "\n",
      "---- Resultat----- \n",
      "Nombre itération :  7\n",
      "{'precision': 0.9680658766820647, 'recall': 0.9582504970178927, 'accuracy': 0.9573114298935678, 'f1_score': 0.963133180137876}\n",
      "CPU times: user 6min 4s, sys: 2.63 s, total: 6min 7s\n",
      "Wall time: 6min 25s\n"
     ]
    }
   ],
   "source": [
    "%%time\n",
    "out_depen = daas.train(dataframe, max_iterations=20,\n",
    "          threshold=1e-6, initial_trustworthiness=0.8,c=0.2,n=50,alpha=0.2,rho=0.5,afficher=True,algo=\"ACCU\",data_truth=data_truth)"
   ]
  },
  {
   "cell_type": "markdown",
   "metadata": {
    "colab_type": "text",
    "id": "-42lbwsRQFaM"
   },
   "source": [
    "## Execution de ACCUSIM sur les données"
   ]
  },
  {
   "cell_type": "code",
   "execution_count": 22,
   "metadata": {
    "colab": {},
    "colab_type": "code",
    "id": "aTK_5VBGQFaN",
    "tags": []
   },
   "outputs": [
    {
     "name": "stdout",
     "output_type": "stream",
     "text": [
      "---- Info sur data ----- \n",
      "Nombre object :  1000\n",
      "Nombre attribue :  6\n",
      "Nombre source :  10\n",
      "Nombre observation :  60000\n",
      "---- ------------ ----- \n",
      "\n",
      "---- Resultat----- \n",
      "Nombre itération :  11\n",
      "{'precision': 0.7053387407752144, 'recall': 0.662813944770711, 'accuracy': 0.8361833333333333, 'f1_score': 0.6834154668728057}\n",
      "CPU times: user 1h 30min 16s, sys: 1min 16s, total: 1h 31min 33s\n",
      "Wall time: 1h 33min\n"
     ]
    }
   ],
   "source": [
    "%%time\n",
    "out_depen = daas.train(dataframe, max_iterations=20, \n",
    "          threshold=1e-6, initial_trustworthiness=0.8,c=0.2,n=50,alpha=0.2,rho=0.5,afficher=True,algo=\"ACCUSIM\",data_truth=data_truth)"
   ]
  },
  {
   "cell_type": "code",
   "execution_count": null,
   "metadata": {},
   "outputs": [],
   "source": []
  },
  {
   "cell_type": "markdown",
   "metadata": {
    "colab_type": "text",
    "id": "SvZi8VoeQFaR"
   },
   "source": [
    "## Execution de l'algorithme de partitionnement d'attribut par force bruite avec Truth Finder / DEPEN / ACCU ou ACCUSIM sur les données\n",
    "Attention cette exécution prend énormement de temps lorsque le nombre d'attribut est grande "
   ]
  },
  {
   "cell_type": "code",
   "execution_count": 11,
   "metadata": {
    "colab": {
     "base_uri": "https://localhost:8080/",
     "height": 443
    },
    "colab_type": "code",
    "id": "xa2gKHIgQFaS",
    "outputId": "5b780c64-b444-46eb-e3ad-d27130f144ac"
   },
   "outputs": [
    {
     "name": "stdout",
     "output_type": "stream",
     "text": [
      "1 - 2 - 3 - 4 - 5 - 6 - 7 - 8 - 9 - 10 - 11 - 12 - 13 - 14 - 15 - 16 - 17 - 18 - 19 - 20 - 21 - 22 - 23 - 24 - 25 - 26 - 27 - 28 - 29 - 30 - 31 - 32 - CPU times: user 7d 9h 36min 35s, sys: 2h 56min 53s, total: 7d 12h 33min 28s\n",
      "Wall time: 9d 23h 21min 37s\n"
     ]
    }
   ],
   "source": [
    "%%time\n",
    "# algo= TF ou DEPEN ou ACCU ou ACCUSIM\n",
    "out_agp = agp.train(dataframe,\n",
    "                  initial_trustworthiness=0.8,\n",
    "                  max_iterations=10,\n",
    "                  threshold=1e-06,algo=\"ACCU\",\n",
    "                  data_truth=data_truth,\n",
    "                  afficher=False)"
   ]
  },
  {
   "cell_type": "code",
   "execution_count": 13,
   "metadata": {},
   "outputs": [],
   "source": [
    "out_agp1 = out_agp "
   ]
  },
  {
   "cell_type": "code",
   "execution_count": 18,
   "metadata": {
    "colab": {},
    "colab_type": "code",
    "id": "4onpPAr5QFaV"
   },
   "outputs": [],
   "source": [
    "out_agp = pd.read_csv('AccuGenPartion_Start_Dimanche_13_09_DS2.txt',sep=';',header=None)\n",
    "\n",
    "out_agp.columns = ['Partition','AccuracyMax','AccuracyAvg','AccuracyOracle','precision','recall','accuracy','f1_score']"
   ]
  },
  {
   "cell_type": "code",
   "execution_count": null,
   "metadata": {},
   "outputs": [],
   "source": []
  },
  {
   "cell_type": "code",
   "execution_count": 30,
   "metadata": {
    "colab": {},
    "colab_type": "code",
    "id": "--InEQUrQFac"
   },
   "outputs": [
    {
     "data": {
      "text/plain": [
       "array([\"[['Property2'], ['Property5', 'Property1', 'Property4', 'Property3', 'Property6']]\",\n",
       "       0.3109654394945225, 0.2738864737107778, 0.8105930524369304,\n",
       "       0.8105930524369304, 0.7388634721887792, 0.8799, 0.7730679599420545],\n",
       "      dtype=object)"
      ]
     },
     "execution_count": 30,
     "metadata": {},
     "output_type": "execute_result"
    }
   ],
   "source": [
    "out_agp[out_agp['AccuracyMax'] == max(out_agp['AccuracyMax'])].values[0]"
   ]
  },
  {
   "cell_type": "code",
   "execution_count": null,
   "metadata": {
    "colab": {},
    "colab_type": "code",
    "id": "z4rHhMs3QFag",
    "outputId": "15478888-ffb4-403d-a8f4-34a9b2a73636"
   },
   "outputs": [],
   "source": [
    "out_agp[ (out_agp['AccuracyMax'] == max(out_agp['AccuracyMax'])) & (out_agp['AccuracyAvg'] == max(out_agp['AccuracyAvg']))]"
   ]
  },
  {
   "cell_type": "code",
   "execution_count": 24,
   "metadata": {
    "colab": {},
    "colab_type": "code",
    "id": "ZgS_UyCQQFaj"
   },
   "outputs": [
    {
     "data": {
      "text/plain": [
       "array([[\"[['Property1', 'Property4', 'Property3', 'Property6'], ['Property2'], ['Property5']]\",\n",
       "        0.3109654394945225, 0.2847969118095947, 0.904239862633734,\n",
       "        0.904239862633734, 0.8674057649667406, 0.94095,\n",
       "        0.8854399068774856]], dtype=object)"
      ]
     },
     "execution_count": 24,
     "metadata": {},
     "output_type": "execute_result"
    }
   ],
   "source": [
    "out_agp[out_agp['AccuracyAvg'] == max(out_agp['AccuracyAvg'])].values"
   ]
  },
  {
   "cell_type": "code",
   "execution_count": 32,
   "metadata": {
    "colab": {},
    "colab_type": "code",
    "id": "Tnhi6u_IQFam"
   },
   "outputs": [
    {
     "data": {
      "text/plain": [
       "array([[\"[['Property1'], ['Property2', 'Property5'], ['Property3', 'Property6'], ['Property4']]\",\n",
       "        0.3106912848033265, 0.2517853368228506, 0.9929996037511556,\n",
       "        0.9929996037511556, 0.9855794441531199, 0.9945666666666668,\n",
       "        0.9892756102375156],\n",
       "       [\"[['Property1'], ['Property2', 'Property5'], ['Property3'], ['Property4'], ['Property6']]\",\n",
       "        0.3106912848033265, 0.2430156039733014, 0.9929996037511556,\n",
       "        0.9929996037511556, 0.9855794441531199, 0.9945666666666668,\n",
       "        0.9892756102375156]], dtype=object)"
      ]
     },
     "execution_count": 32,
     "metadata": {},
     "output_type": "execute_result"
    }
   ],
   "source": [
    "out_agp[out_agp['AccuracyOracle'] == max(out_agp['AccuracyOracle'])].values"
   ]
  },
  {
   "cell_type": "code",
   "execution_count": null,
   "metadata": {
    "colab": {},
    "colab_type": "code",
    "id": "p9WsI8XHQFap"
   },
   "outputs": [],
   "source": []
  },
  {
   "cell_type": "markdown",
   "metadata": {
    "colab_type": "text",
    "id": "yoGhpzLrQFas"
   },
   "source": [
    "## Execution de l'algorithme de partitionnement d'attribut par clustering (K-mean) avec Truth Finder / DEPEN / ACCU ou ACCUSIM sur les données\n",
    "Notre proposition"
   ]
  },
  {
   "cell_type": "code",
   "execution_count": 11,
   "metadata": {
    "colab": {
     "base_uri": "https://localhost:8080/",
     "height": 284
    },
    "colab_type": "code",
    "id": "GddelquxQFat",
    "outputId": "96bc9aec-bf40-48b3-c5b4-a3ed6ab1e957",
    "scrolled": false
   },
   "outputs": [
    {
     "name": "stdout",
     "output_type": "stream",
     "text": [
      "End sim\n",
      "---- Itération :  1 ----- \n",
      "---- Itération :  2 ----- \n",
      "---- Itération :  3 ----- \n",
      "---- Itération :  4 ----- \n",
      "---- Itération :  5 ----- \n",
      "---- Itération :  6 ----- \n",
      "End sim\n",
      "---- Itération :  1 ----- \n",
      "---- Itération :  2 ----- \n",
      "---- Itération :  3 ----- \n",
      "---- Itération :  4 ----- \n",
      "End sim\n",
      "---- Itération :  1 ----- \n",
      "---- Itération :  2 ----- \n",
      "---- Itération :  3 ----- \n",
      "---- Itération :  4 ----- \n",
      "---- Itération :  5 ----- \n",
      "---- Itération :  6 ----- \n",
      "---- Itération :  7 ----- \n",
      "---- Itération :  8 ----- \n",
      "Iter :  1 :  [['Actual arrival', 'Actual departure'], ['Arrival gate', 'Departure gate'], ['Scheduled arrival', 'Scheduled departure']]  |  0.8853183370154649  | Time :  24.790601015090942\n",
      "CPU times: user 25.4 s, sys: 215 ms, total: 25.6 s\n",
      "Wall time: 25.3 s\n"
     ]
    },
    {
     "data": {
      "text/plain": [
       "{'precision': 0.8853183370154649,\n",
       " 'recall': 0.8483448806774442,\n",
       " 'accuracy': 0.8427811198519204,\n",
       " 'f1_score': 0.8664373464373465}"
      ]
     },
     "execution_count": 11,
     "metadata": {},
     "output_type": "execute_result"
    }
   ],
   "source": [
    "%%time\n",
    "aac.train(dataframe,initial_trustworthiness=0.8,\n",
    "                  max_iterations=10,max_iter_part_check=1,\n",
    "                  threshold=1e-06,algo=\"TF\",\n",
    "                  data_truth=data_truth,rho=0.5,\n",
    "                  afficher=False)"
   ]
  },
  {
   "cell_type": "code",
   "execution_count": null,
   "metadata": {},
   "outputs": [],
   "source": []
  },
  {
   "cell_type": "code",
   "execution_count": null,
   "metadata": {},
   "outputs": [],
   "source": []
  },
  {
   "cell_type": "code",
   "execution_count": 16,
   "metadata": {},
   "outputs": [
    {
     "data": {
      "text/plain": [
       "array([[list([['Property1'], ['Property2'], ['Property3'], ['Property4'], ['Property5'], ['Property6']]),\n",
       "        0.33391868091568677, 0.2819415119457284, 0.9316666666666666,\n",
       "        0.9316666666666666, 0.9316666666666666, 0.9781624500665779,\n",
       "        0.9316666666666665]], dtype=object)"
      ]
     },
     "execution_count": 16,
     "metadata": {},
     "output_type": "execute_result"
    }
   ],
   "source": [
    "out_aac[out_aac['AccuracyMax'] == max(out_aac['AccuracyMax'])].values"
   ]
  },
  {
   "cell_type": "code",
   "execution_count": 17,
   "metadata": {},
   "outputs": [
    {
     "data": {
      "text/plain": [
       "array([[list([['Property1', 'Property2', 'Property3', 'Property6'], ['Property4', 'Property5']]),\n",
       "        0.3319981292288145, 0.29930966837358974, 0.825, 0.825, 0.825,\n",
       "        0.9440745672436751, 0.825]], dtype=object)"
      ]
     },
     "execution_count": 17,
     "metadata": {},
     "output_type": "execute_result"
    }
   ],
   "source": [
    "out_aac[out_aac['AccuracyAvg'] == max(out_aac['AccuracyAvg'])].values"
   ]
  },
  {
   "cell_type": "code",
   "execution_count": 18,
   "metadata": {},
   "outputs": [
    {
     "data": {
      "text/plain": [
       "array([[list([['Property1', 'Property6'], ['Property2', 'Property3'], ['Property4', 'Property5']]),\n",
       "        0.3319981292288145, 0.28158956601693436, 0.9433333333333334,\n",
       "        0.9433333333333334, 0.9433333333333334, 0.9818908122503329,\n",
       "        0.9433333333333332],\n",
       "       [list([['Property1', 'Property6'], ['Property2'], ['Property3'], ['Property4', 'Property5']]),\n",
       "        0.3319981292288145, 0.2735441246566806, 0.9433333333333334,\n",
       "        0.9433333333333334, 0.9433333333333334, 0.9818908122503329,\n",
       "        0.9433333333333332]], dtype=object)"
      ]
     },
     "execution_count": 18,
     "metadata": {},
     "output_type": "execute_result"
    }
   ],
   "source": [
    "out_aac[out_aac['AccuracyOracle'] == max(out_aac['AccuracyOracle'])].values"
   ]
  },
  {
   "cell_type": "code",
   "execution_count": null,
   "metadata": {},
   "outputs": [],
   "source": []
  }
 ],
 "metadata": {
  "accelerator": "TPU",
  "colab": {
   "collapsed_sections": [],
   "name": "Main-DataConfig1_.ipynb",
   "provenance": []
  },
  "kernelspec": {
   "display_name": "Python 3",
   "language": "python",
   "name": "python3"
  },
  "language_info": {
   "codemirror_mode": {
    "name": "ipython",
    "version": 3
   },
   "file_extension": ".py",
   "mimetype": "text/x-python",
   "name": "python",
   "nbconvert_exporter": "python",
   "pygments_lexer": "ipython3",
   "version": "3.7.6"
  }
 },
 "nbformat": 4,
 "nbformat_minor": 1
}
